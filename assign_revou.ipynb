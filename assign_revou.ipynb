{
 "cells": [
  {
   "cell_type": "code",
   "execution_count": 23,
   "metadata": {},
   "outputs": [],
   "source": [
    "#FIRST IMPORT LIBRARY\n",
    "import pandas as pd"
   ]
  },
  {
   "cell_type": "code",
   "execution_count": 24,
   "metadata": {},
   "outputs": [
    {
     "name": "stdout",
     "output_type": "stream",
     "text": [
      "https://docs.google.com/spreadsheets/d/1z46qH9il8OfVkYBZMMDUYq_GYHp77_prgkKq6HysZts/export?format=csv&gid=1485085913\n"
     ]
    },
    {
     "data": {
      "text/html": [
       "<div>\n",
       "<style scoped>\n",
       "    .dataframe tbody tr th:only-of-type {\n",
       "        vertical-align: middle;\n",
       "    }\n",
       "\n",
       "    .dataframe tbody tr th {\n",
       "        vertical-align: top;\n",
       "    }\n",
       "\n",
       "    .dataframe thead th {\n",
       "        text-align: right;\n",
       "    }\n",
       "</style>\n",
       "<table border=\"1\" class=\"dataframe\">\n",
       "  <thead>\n",
       "    <tr style=\"text-align: right;\">\n",
       "      <th></th>\n",
       "      <th>Name</th>\n",
       "      <th>Sales</th>\n",
       "      <th>Series</th>\n",
       "      <th>Release</th>\n",
       "      <th>Genre</th>\n",
       "      <th>Developer</th>\n",
       "      <th>Publisher</th>\n",
       "    </tr>\n",
       "  </thead>\n",
       "  <tbody>\n",
       "    <tr>\n",
       "      <th>0</th>\n",
       "      <td>PlayerUnknown's Battlegrounds</td>\n",
       "      <td>42.0</td>\n",
       "      <td>NaN</td>\n",
       "      <td>12/1/2017</td>\n",
       "      <td>Battle royale</td>\n",
       "      <td>PUBG Studios</td>\n",
       "      <td>Krafton</td>\n",
       "    </tr>\n",
       "    <tr>\n",
       "      <th>1</th>\n",
       "      <td>Minecraft</td>\n",
       "      <td>33.0</td>\n",
       "      <td>Minecraft</td>\n",
       "      <td>11/1/2011</td>\n",
       "      <td>Sandbox, survival</td>\n",
       "      <td>Mojang Studios</td>\n",
       "      <td>Mojang Studios</td>\n",
       "    </tr>\n",
       "    <tr>\n",
       "      <th>2</th>\n",
       "      <td>Diablo III</td>\n",
       "      <td>20.0</td>\n",
       "      <td>Diablo</td>\n",
       "      <td>5/1/2012</td>\n",
       "      <td>Action role-playing</td>\n",
       "      <td>Blizzard Entertainment</td>\n",
       "      <td>Blizzard Entertainment</td>\n",
       "    </tr>\n",
       "    <tr>\n",
       "      <th>3</th>\n",
       "      <td>Garry's Mod</td>\n",
       "      <td>20.0</td>\n",
       "      <td>NaN</td>\n",
       "      <td>11/1/2006</td>\n",
       "      <td>Sandbox</td>\n",
       "      <td>Facepunch Studios</td>\n",
       "      <td>Valve</td>\n",
       "    </tr>\n",
       "    <tr>\n",
       "      <th>4</th>\n",
       "      <td>Terraria</td>\n",
       "      <td>17.2</td>\n",
       "      <td>NaN</td>\n",
       "      <td>5/1/2011</td>\n",
       "      <td>Action-adventure</td>\n",
       "      <td>Re-Logic</td>\n",
       "      <td>Re-Logic</td>\n",
       "    </tr>\n",
       "  </tbody>\n",
       "</table>\n",
       "</div>"
      ],
      "text/plain": [
       "                            Name  Sales     Series    Release  \\\n",
       "0  PlayerUnknown's Battlegrounds   42.0        NaN  12/1/2017   \n",
       "1                      Minecraft   33.0  Minecraft  11/1/2011   \n",
       "2                     Diablo III   20.0     Diablo   5/1/2012   \n",
       "3                    Garry's Mod   20.0        NaN  11/1/2006   \n",
       "4                       Terraria   17.2        NaN   5/1/2011   \n",
       "\n",
       "                 Genre               Developer               Publisher  \n",
       "0        Battle royale            PUBG Studios                 Krafton  \n",
       "1    Sandbox, survival          Mojang Studios          Mojang Studios  \n",
       "2  Action role-playing  Blizzard Entertainment  Blizzard Entertainment  \n",
       "3              Sandbox       Facepunch Studios                   Valve  \n",
       "4     Action-adventure                Re-Logic                Re-Logic  "
      ]
     },
     "execution_count": 24,
     "metadata": {},
     "output_type": "execute_result"
    }
   ],
   "source": [
    "#IMPORT DATASET LINK\n",
    "sheet_url = 'https://docs.google.com/spreadsheets/d/1z46qH9il8OfVkYBZMMDUYq_GYHp77_prgkKq6HysZts/edit#gid=1485085913'\n",
    "\n",
    "sheet_url_trf = sheet_url.replace('/edit#gid=', '/export?format=csv&gid=')\n",
    "print(sheet_url_trf)\n",
    "\n",
    "df = pd.read_csv(sheet_url_trf)\n",
    "df.head()"
   ]
  },
  {
   "cell_type": "code",
   "execution_count": 25,
   "metadata": {},
   "outputs": [
    {
     "name": "stdout",
     "output_type": "stream",
     "text": [
      "                                 Name  Sales     Series    Release  \\\n",
      "175  StarCraft II: Heart of the Swarm    1.0  StarCraft   3/1/2013   \n",
      "176  StarCraft II: Legacy of the Void    1.0  StarCraft  11/1/2015   \n",
      "\n",
      "                  Genre               Developer               Publisher  \n",
      "175  Real-time strategy  Blizzard Entertainment  Blizzard Entertainment  \n",
      "176  Real-time strategy  Blizzard Entertainment  Blizzard Entertainment  \n"
     ]
    }
   ],
   "source": [
    "#CHECK  IF THERE'S ANY DUPLICATION IN THE DATASET\n",
    "duplicates = df[df.duplicated()]\n",
    "print(duplicates)"
   ]
  },
  {
   "cell_type": "code",
   "execution_count": 26,
   "metadata": {},
   "outputs": [],
   "source": [
    "#BECAUSE THERE'S DUPLICATED DATA IN DATASET WE NEED TO REMOVE IT\n",
    "df_cleaned = df.drop_duplicates()"
   ]
  },
  {
   "cell_type": "code",
   "execution_count": 27,
   "metadata": {},
   "outputs": [
    {
     "data": {
      "text/plain": [
       "0"
      ]
     },
     "execution_count": 27,
     "metadata": {},
     "output_type": "execute_result"
    }
   ],
   "source": [
    "df_cleaned['Name'].duplicated().sum()"
   ]
  },
  {
   "cell_type": "markdown",
   "metadata": {},
   "source": [
    "# NO.1"
   ]
  },
  {
   "cell_type": "code",
   "execution_count": 28,
   "metadata": {},
   "outputs": [
    {
     "name": "stdout",
     "output_type": "stream",
     "text": [
      "Oldest Game: Hydlide \n",
      "Released on: 1984-12-01\n",
      "\n",
      "Newest Game: Valheim \n",
      "Released on 2021-02-01\n"
     ]
    },
    {
     "name": "stderr",
     "output_type": "stream",
     "text": [
      "c:\\Users\\ricky\\AppData\\Local\\Programs\\Python\\Python37\\lib\\site-packages\\ipykernel_launcher.py:1: SettingWithCopyWarning: \n",
      "A value is trying to be set on a copy of a slice from a DataFrame.\n",
      "Try using .loc[row_indexer,col_indexer] = value instead\n",
      "\n",
      "See the caveats in the documentation: https://pandas.pydata.org/pandas-docs/stable/user_guide/indexing.html#returning-a-view-versus-a-copy\n",
      "  \"\"\"Entry point for launching an IPython kernel.\n"
     ]
    }
   ],
   "source": [
    "df_cleaned['Release'] = pd.to_datetime(df_cleaned['Release']).dt.date\n",
    "\n",
    "oldest_game = df_cleaned[df_cleaned['Release'] == df_cleaned['Release'].min()]\n",
    "newest_game = df_cleaned[df_cleaned['Release'] == df_cleaned['Release'].max()]\n",
    "\n",
    "oldest_game_name = oldest_game['Name'].values[0]\n",
    "newest_game_name = newest_game['Name'].values[0]\n",
    "\n",
    "print(f\"Oldest Game: {oldest_game_name} \\nReleased on: {oldest_game['Release'].values[0]}\\n\")\n",
    "print(f\"Newest Game: {newest_game_name} \\nReleased on {newest_game['Release'].values[0]}\")"
   ]
  },
  {
   "cell_type": "markdown",
   "metadata": {},
   "source": [
    "# NO.2"
   ]
  },
  {
   "cell_type": "code",
   "execution_count": 29,
   "metadata": {},
   "outputs": [
    {
     "name": "stdout",
     "output_type": "stream",
     "text": [
      "Publisher with the most published games is Electronic Arts with 19 games\n"
     ]
    }
   ],
   "source": [
    "publisher_counts = df_cleaned['Publisher'].value_counts()\n",
    "most_publisher = publisher_counts.idxmax()\n",
    "most_games_published = publisher_counts.max()\n",
    "\n",
    "print(f\"Publisher with the most published games is {most_publisher} with {most_games_published} games\")"
   ]
  },
  {
   "cell_type": "markdown",
   "metadata": {},
   "source": [
    "# NO.3"
   ]
  },
  {
   "cell_type": "code",
   "execution_count": 30,
   "metadata": {},
   "outputs": [
    {
     "name": "stdout",
     "output_type": "stream",
     "text": [
      "Developer with the most Developed games is Blizzard Entertainment with 8 games.\n"
     ]
    }
   ],
   "source": [
    "developer_counts = df_cleaned['Developer'].value_counts()\n",
    "most_developer = developer_counts.idxmax()\n",
    "most_games_developed = developer_counts.max()\n",
    "\n",
    "print(f\"Developer with the most Developed games is {most_developer} with {most_games_developed} games.\")"
   ]
  },
  {
   "cell_type": "markdown",
   "metadata": {},
   "source": [
    "# NO.4"
   ]
  },
  {
   "cell_type": "code",
   "execution_count": 31,
   "metadata": {},
   "outputs": [
    {
     "name": "stdout",
     "output_type": "stream",
     "text": [
      "The series with the most sales is Minecraft with 33.0 total sales.\n"
     ]
    }
   ],
   "source": [
    "series_sales = df_cleaned.groupby('Series')['Sales'].sum()\n",
    "most_sold_series = series_sales.idxmax()\n",
    "most_sales = series_sales.max()\n",
    "\n",
    "print(f\"The series with the most sales is {most_sold_series} with {most_sales} total sales.\")"
   ]
  },
  {
   "cell_type": "markdown",
   "metadata": {},
   "source": [
    "# NO.5"
   ]
  },
  {
   "cell_type": "code",
   "execution_count": 32,
   "metadata": {},
   "outputs": [
    {
     "name": "stdout",
     "output_type": "stream",
     "text": [
      "The series with the most games is Command & Conquer with 5 games.\n"
     ]
    }
   ],
   "source": [
    "series_game_count = df_cleaned.groupby('Series')['Name'].count().reset_index()\n",
    "most_games_series = series_game_count.sort_values(by='Name', ascending=False).iloc[0]\n",
    "\n",
    "print(f\"The series with the most games is {most_games_series['Series']} with {most_games_series['Name']} games.\")"
   ]
  },
  {
   "cell_type": "code",
   "execution_count": 33,
   "metadata": {},
   "outputs": [],
   "source": [
    "#EXPORTING CLEANED DATASET\n",
    "df_cleaned.to_csv('cleaned_dataset.csv', index=False)"
   ]
  }
 ],
 "metadata": {
  "kernelspec": {
   "display_name": "Python 3",
   "language": "python",
   "name": "python3"
  },
  "language_info": {
   "codemirror_mode": {
    "name": "ipython",
    "version": 3
   },
   "file_extension": ".py",
   "mimetype": "text/x-python",
   "name": "python",
   "nbconvert_exporter": "python",
   "pygments_lexer": "ipython3",
   "version": "3.7.6"
  },
  "orig_nbformat": 4
 },
 "nbformat": 4,
 "nbformat_minor": 2
}
